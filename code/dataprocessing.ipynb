{
 "metadata": {
  "name": "",
  "signature": "sha256:964b9bb012913480943b196c715e1a9154773027786863b7bdb4b224ca798418"
 },
 "nbformat": 3,
 "nbformat_minor": 0,
 "worksheets": [
  {
   "cells": [
    {
     "cell_type": "markdown",
     "metadata": {},
     "source": [
      "In this we process the data collected and fit a logistic model to it"
     ]
    },
    {
     "cell_type": "code",
     "collapsed": false,
     "input": [
      "import json\n",
      "\"\"\"Reads the file and return a list of json objects\n",
      "Args:\n",
      "    file_name : Input file name\n",
      "Output:\n",
      "    list of json objects\n",
      "\"\"\"\n",
      "def read_file(file_name):\n",
      "    lines =[]\n",
      "    with open(file_name,'r') as f:\n",
      "        lines = [json.loads(line) for line in f.readlines()]\n",
      "    \n",
      "    return lines\n",
      "\n",
      "lines = read_file('../data/out.json')\n",
      "print 'read %d lines'%(len(lines))\n",
      "        "
     ],
     "language": "python",
     "metadata": {},
     "outputs": [
      {
       "output_type": "stream",
       "stream": "stdout",
       "text": [
        "read 2566 lines\n"
       ]
      }
     ],
     "prompt_number": 16
    },
    {
     "cell_type": "code",
     "collapsed": false,
     "input": [
      "# What is the distribution of friends count?\n",
      "from collections import Counter\n",
      "import matplotlib.pyplot as plt\n",
      "%matplotlib inline\n",
      "\n",
      "#counts = Counter([len(line['follows']) for line in lines if len(line['follows']) >20 and len(line['follows']) <300])\n",
      "counts = Counter([len(line['follows']) for line in lines ])\n",
      "plt.bar(counts.keys(), counts.values(), align='center')\n",
      "plt.xlabel('friends')\n",
      "plt.ylabel('count')\n",
      "plt.show()\n"
     ],
     "language": "python",
     "metadata": {},
     "outputs": [
      {
       "metadata": {},
       "output_type": "display_data",
       "png": "[encoded data removed]",
       "text": [
        "<matplotlib.figure.Figure at 0x1a7af2b0>"
       ]
      }
     ],
     "prompt_number": 17
    },
    {
     "cell_type": "code",
     "collapsed": false,
     "input": [
      "print counts.most_common(30)"
     ],
     "language": "python",
     "metadata": {},
     "outputs": [
      {
       "output_type": "stream",
       "stream": "stdout",
       "text": [
        "[(40, 157), (41, 73), (1, 49), (2, 34), (5001, 34), (42, 31), (4, 28), (6, 28), (8, 28), (9, 26), (13, 26), (61, 26), (3, 25), (39, 25), (7, 23), (11, 22), (16, 22), (22, 22), (60, 22), (43, 21), (5, 20), (12, 19), (14, 19), (18, 19), (28, 19), (38, 19), (46, 19), (17, 18), (50, 18), (25, 17)]\n"
       ]
      }
     ],
     "prompt_number": 18
    },
    {
     "cell_type": "code",
     "collapsed": false,
     "input": [
      "#most popular accounts?\n",
      "counts = Counter()\n",
      "for line in lines:\n",
      "    if len(line['follows']) > 20 and len(line['follows']) <300:\n",
      "        counts += Counter(line['follows'])\n",
      "\n",
      "print counts.most_common(30)"
     ],
     "language": "python",
     "metadata": {},
     "outputs": [
      {
       "output_type": "stream",
       "stream": "stdout",
       "text": [
        "[(u'18839785', 400), (u'88856792', 392), (u'145125358', 374), (u'101311381', 350), (u'101695592', 337), (u'132385468', 330), (u'813286', 324), (u'113419517', 321), (u'158487331', 317), (u'471741741', 283), (u'71201743', 281), (u'131574396', 278), (u'19895282', 271), (u'18681139', 257), (u'21447363', 252), (u'135421739', 249), (u'14213711', 242), (u'31348594', 239), (u'34171224', 227), (u'7401202', 220), (u'134758540', 218), (u'27260086', 214), (u'8802752', 213), (u'36152770', 213), (u'15846407', 211), (u'17919972', 210), (u'6741632', 206), (u'14502789', 205), (u'62557485', 204), (u'17715048', 203)]\n"
       ]
      }
     ],
     "prompt_number": 4
    },
    {
     "cell_type": "code",
     "collapsed": false,
     "input": [
      "#filter users based on their friends count , keep user who has friends between 20 to 300\n",
      "\n",
      "users = [line for line in lines if len(line['follows']) > 20 and len(line['follows']) <300]\n",
      "print 'There are %d users after filtering'%(len(users))"
     ],
     "language": "python",
     "metadata": {},
     "outputs": [
      {
       "output_type": "stream",
       "stream": "stdout",
       "text": [
        "There are 1469 users after filtering\n"
       ]
      }
     ],
     "prompt_number": 19
    },
    {
     "cell_type": "code",
     "collapsed": false,
     "input": [
      "#get prime accounts and its class\n",
      "primeid2class=dict()\n",
      "with open('../data/idtoclass.txt','r') as f:\n",
      "    for line in f.readlines():\n",
      "        primeid2class[line.split(',')[0]] = line.split(',')[1].strip()\n",
      "\n",
      "print primeid2class\n"
     ],
     "language": "python",
     "metadata": {},
     "outputs": [
      {
       "output_type": "stream",
       "stream": "stdout",
       "text": [
        "{'18839785': 'I', '131574396': 'B', '731379950': 'C', '135421739': 'I', '158487331': 'B', '150697226': 'B', '581437101': 'C', '7401202': 'C', '132385468': 'I'}\n"
       ]
      }
     ],
     "prompt_number": 20
    },
    {
     "cell_type": "code",
     "collapsed": false,
     "input": [
      "def get_class(user):\n",
      "    for id_ in primeid2class:\n",
      "        if id_ in user['follows']:\n",
      "            return primeid2class[id_]"
     ],
     "language": "python",
     "metadata": {},
     "outputs": [],
     "prompt_number": 21
    },
    {
     "cell_type": "code",
     "collapsed": false,
     "input": [
      "def remove_prime_id(follows):\n",
      "    return [follow for follow in follows if follow not in primeid2class]"
     ],
     "language": "python",
     "metadata": {},
     "outputs": [],
     "prompt_number": 22
    },
    {
     "cell_type": "code",
     "collapsed": false,
     "input": [
      "def friends2Count(user):\n",
      "    follows = user['follows']\n",
      "    follows = remove_prime_id(follows)\n",
      "    return dict(Counter(follows))"
     ],
     "language": "python",
     "metadata": {},
     "outputs": [],
     "prompt_number": 23
    },
    {
     "cell_type": "code",
     "collapsed": false,
     "input": [
      "X=[]\n",
      "Y=[]\n",
      "for user in users:\n",
      "    Y.append(get_class(user))\n",
      "    X.append(friends2Count(user))\n",
      "\n",
      "print 'There are %d instances'%(len(X))"
     ],
     "language": "python",
     "metadata": {},
     "outputs": [
      {
       "output_type": "stream",
       "stream": "stdout",
       "text": [
        "There are 1469 instances\n"
       ]
      }
     ],
     "prompt_number": 24
    },
    {
     "cell_type": "code",
     "collapsed": false,
     "input": [
      "#append manually labled test data\n",
      "def readTestFile(fileName):\n",
      "    with open('../data/'+fileName,'r') as f:\n",
      "        return [dict(Counter(line)) for line in f.readlines()]\n",
      "      \n",
      "    \n",
      "for val in [('outIndian.txt','I'),('outbrazilian.txt','B'),('outcanadian.txt','C')]:\n",
      "    x = readTestFile(val[0])\n",
      "    y = val[1]*len(x)\n",
      "    X += x\n",
      "    Y += y\n",
      "    "
     ],
     "language": "python",
     "metadata": {},
     "outputs": [],
     "prompt_number": 25
    },
    {
     "cell_type": "code",
     "collapsed": false,
     "input": [
      "print 'There are %d instances after adding test data '%(len(X))"
     ],
     "language": "python",
     "metadata": {},
     "outputs": [
      {
       "output_type": "stream",
       "stream": "stdout",
       "text": [
        "There are 1497 instances after adding test data \n"
       ]
      }
     ],
     "prompt_number": 26
    },
    {
     "cell_type": "code",
     "collapsed": false,
     "input": [
      "#No of instances in Each Class?\n",
      "Counter(Y)"
     ],
     "language": "python",
     "metadata": {},
     "outputs": [
      {
       "metadata": {},
       "output_type": "pyout",
       "prompt_number": 27,
       "text": [
        "Counter({'B': 569, 'I': 531, 'C': 397})"
       ]
      }
     ],
     "prompt_number": 27
    },
    {
     "cell_type": "code",
     "collapsed": false,
     "input": [
      "from sklearn.feature_extraction import DictVectorizer\n",
      "import numpy as np\n",
      "v = DictVectorizer()\n",
      "X = v.fit_transform(X)\n",
      "Y = np.array(Y)"
     ],
     "language": "python",
     "metadata": {},
     "outputs": [],
     "prompt_number": 28
    },
    {
     "cell_type": "code",
     "collapsed": false,
     "input": [
      "Y_test = Y[1469:]\n",
      "X_test = X[1469:]\n",
      "Y_train= Y[:1468]\n",
      "X_train = X[:1468]"
     ],
     "language": "python",
     "metadata": {},
     "outputs": [],
     "prompt_number": 29
    },
    {
     "cell_type": "code",
     "collapsed": false,
     "input": [
      "import numpy as np\n",
      "import statsmodels.api as sm\n",
      "import matplotlib.pyplot as plt\n",
      "from patsy import dmatrices\n",
      "from sklearn.linear_model import LogisticRegression\n",
      "from sklearn.cross_validation import train_test_split\n",
      "from sklearn import metrics\n",
      "from sklearn.cross_validation import cross_val_score\n",
      "\n",
      "# instantiate a logistic regression model, and fit with X and y\n",
      "model = LogisticRegression()\n",
      "model = model.fit(X_train, Y_train)\n",
      "\n",
      "# check the accuracy on the training set\n",
      "model.score(X_train, Y_train)"
     ],
     "language": "python",
     "metadata": {},
     "outputs": [
      {
       "metadata": {},
       "output_type": "pyout",
       "prompt_number": 36,
       "text": [
        "1.0"
       ]
      }
     ],
     "prompt_number": 36
    },
    {
     "cell_type": "code",
     "collapsed": false,
     "input": [
      "def print_top_features(m, feature_names, labels, n=10):\n",
      "    for yi, ylabel in enumerate(labels):\n",
      "        print 'Top Coefficients for', ylabel\n",
      "        coef = m.coef_[yi]\n",
      "        srted = np.argsort(coef)\n",
      "        topi = srted[::-1][:n]\n",
      "        boti = srted[:n]\n",
      "        print 'pos:' + ' '.join('%s (%.2g)' % (n, c) for n, c in zip(feature_names[topi], coef[topi]))\n",
      "        print 'neg:' + ' '.join('%s (%.2g)' % (n, c) for n, c in zip(feature_names[boti], coef[boti]))\n"
     ],
     "language": "python",
     "metadata": {},
     "outputs": [],
     "prompt_number": 31
    },
    {
     "cell_type": "code",
     "collapsed": false,
     "input": [
      "# examine the coefficients\n",
      "#model.coef_\n",
      "print_top_features(model,np.array(v.get_feature_names()),['Brazilian','Canadian','Indian'],10)"
     ],
     "language": "python",
     "metadata": {},
     "outputs": [
      {
       "output_type": "stream",
       "stream": "stdout",
       "text": [
        "Top Coefficients for Brazilian\n",
        "pos:344801362 (0.74) 155659213 (0.72) 60865434 (0.7) 14213711 (0.68) 62557485 (0.53) 33804533 (0.49) 43023158 (0.49) 34507480 (0.48) 96951800 (0.48) 27260086 (0.46)\n",
        "neg:88856792 (-0.94) 145125358 (-0.87) 471741741 (-0.76) 6433472 (-0.61) 71201743 (-0.61) 17881732 (-0.58) 14260960 (-0.55) 101695592 (-0.55) 19636948 (-0.54) 101311381 (-0.54)\n",
        "Top Coefficients for Canadian\n",
        "pos:6433472 (0.85) 17881732 (0.77) 19636948 (0.74) 8736882 (0.66) 14260960 (0.56) 18177126 (0.52) 19678937 (0.47) 19038934 (0.44) 55463336 (0.42) 20215020 (0.41)\n",
        "neg:145125358 (-0.93) 88856792 (-0.85) 405427035 (-0.65) 44588485 (-0.65) 101695592 (-0.57) 101311381 (-0.55) 344801362 (-0.53) 14213711 (-0.53) 13334762 (-0.5) 471741741 (-0.5)\n",
        "Top Coefficients for Indian\n",
        "pos:145125358 (1.4) 88856792 (1.4) 471741741 (0.92) 101695592 (0.86) 44588485 (0.8) 405427035 (0.76) 101311381 (0.75) 71201743 (0.73) 92708272 (0.7) 59808841 (0.53)\n",
        "neg:6433472 (-0.57) 60865434 (-0.55) 17881732 (-0.54) 8736882 (-0.52) 19636948 (-0.5) 155659213 (-0.48) 344801362 (-0.46) 14213711 (-0.43) 56913467 (-0.41) 87174678 (-0.41)\n"
       ]
      }
     ],
     "prompt_number": 32
    },
    {
     "cell_type": "code",
     "collapsed": false,
     "input": [
      "#now test data using manually labelled set\n",
      "model.predict(X[:1468])\n",
      "#Y_test"
     ],
     "language": "python",
     "metadata": {},
     "outputs": [
      {
       "metadata": {},
       "output_type": "pyout",
       "prompt_number": 40,
       "text": [
        "array(['C', 'C', 'I', ..., 'C', 'B', 'C'], \n",
        "      dtype='|S1')"
       ]
      }
     ],
     "prompt_number": 40
    }
   ],
   "metadata": {}
  }
 ]
}