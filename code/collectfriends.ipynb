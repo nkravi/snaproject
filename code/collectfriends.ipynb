{
 "metadata": {
  "name": "",
  "signature": "sha256:454d8c6b6a82968fdaa295ea81beeb14a6fade6f9defe54c76cdf56356379dd4"
 },
 "nbformat": 3,
 "nbformat_minor": 0,
 "worksheets": [
  {
   "cells": [
    {
     "cell_type": "code",
     "collapsed": false,
     "input": [
      "#get db connection\n",
      "from pymongo import MongoClient\n",
      "\n",
      "dbconn = MongoClient('localhost', 27017)\n",
      "db = dbconn.twitter_ethnicity\n",
      "\n",
      "print db"
     ],
     "language": "python",
     "metadata": {},
     "outputs": [
      {
       "output_type": "stream",
       "stream": "stdout",
       "text": [
        "Database(MongoClient('localhost', 27017), u'twitter_ethnicity')\n"
       ]
      }
     ],
     "prompt_number": 1
    },
    {
     "cell_type": "code",
     "collapsed": false,
     "input": [
      "#helper functions\n",
      "def get_credentials():\n",
      "    \"\"\"Gets twitter credentials from DB \n",
      "    Returns:\n",
      "        Respone dict , or None if failed.\n",
      "    \"\"\"\n",
      "    twitter_cred = db['twitter_cred']\n",
      "    return twitter_cred.find_and_modify(query={'is_taken':False}, update={'$set':{'is_taken':True}}, upsert=False, sort=None)\n"
     ],
     "language": "python",
     "metadata": {},
     "outputs": [],
     "prompt_number": 4
    },
    {
     "cell_type": "code",
     "collapsed": false,
     "input": [
      "#get twitter obj \n",
      "import sys\n",
      "from TwitterAPI import TwitterAPI\n",
      "twitter = get_credentials()\n",
      "if twitter:\n",
      "    twitterObj = TwitterAPI(\n",
      "            twitter['api_key'],\n",
      "            twitter['api_secret'],\n",
      "            twitter ['access_key'],\n",
      "            twitter['access_secret'])\n",
      "else:\n",
      "    print >> sys.stderr,'Twitter credits not available'"
     ],
     "language": "python",
     "metadata": {},
     "outputs": [],
     "prompt_number": 5
    },
    {
     "cell_type": "code",
     "collapsed": false,
     "input": [
      "import time\n",
      "def robust_request(twitter, resource, params, max_tries=5):\n",
      "    \"\"\" If a Twitter request fails, sleep for 15 minutes.\n",
      "    Do this at most max_tries times before quitting.\n",
      "    Args:\n",
      "      twitter .... A TwitterAPI object.\n",
      "      resource ... A resource string to request.\n",
      "      params ..... A parameter dictionary for the request.\n",
      "      max_tries .. The maximum number of tries to attempt.\n",
      "    Returns:\n",
      "      A TwitterResponse object, or None if failed.\n",
      "    \"\"\"\n",
      "    for i in range(max_tries):\n",
      "        request = twitter.request(resource, params)\n",
      "        if request.status_code == 200:\n",
      "            return request\n",
      "        r = [r for r in request][0]\n",
      "        if ('code' in r and r['code'] == 34) or ('error' in r and r['error'] == 'Not authorized.'):   # 34 == user does not exist.\n",
      "            print >> sys.stderr, 'skipping bad request', resource, params\n",
      "            return None\n",
      "        else:\n",
      "            print >> sys.stderr, 'Got error:', request.text, '\\nsleeping for 15 minutes.'\n",
      "            sys.stderr.flush()\n",
      "            time.sleep(60 * 15)"
     ],
     "language": "python",
     "metadata": {},
     "outputs": [],
     "prompt_number": 6
    },
    {
     "cell_type": "code",
     "collapsed": false,
     "input": [
      "def get_friends(screen_name,count=5000):\n",
      "    \"\"\"To get friends of given twitter Ids\n",
      "    Args:\n",
      "        user_id... twitter user id\n",
      "    Returns\n",
      "        friends list\n",
      "    \"\"\"\n",
      "    friends = []\n",
      "    request = robust_request(twitterObj, 'friends/ids',\n",
      "                             {'screen_name': screen_name, 'count': count, 'stringify_ids' :True})\n",
      "    if request:\n",
      "        for result in request:\n",
      "            if 'ids' in result:\n",
      "                friends += result['ids']\n",
      "    return friends"
     ],
     "language": "python",
     "metadata": {},
     "outputs": [],
     "prompt_number": 7
    },
    {
     "cell_type": "code",
     "collapsed": false,
     "input": [
      "file_names =['brazilian.txt','Indian.txt','canadian.txt']\n",
      "for file_name in file_names:\n",
      "    with open('../data/out'+file_name,'w') as out:\n",
      "        with open('../data/'+file_name,'r') as f:\n",
      "            for line in f.readlines():\n",
      "                friends = get_friends(line.strip())\n",
      "                if len(friends) != 0:\n",
      "                    out.write(','.join(friends)+'\\n') "
     ],
     "language": "python",
     "metadata": {},
     "outputs": [
      {
       "output_type": "stream",
       "stream": "stderr",
       "text": [
        "Got error: {\"errors\":[{\"message\":\"Rate limit exceeded\",\"code\":88}]} \n",
        "sleeping for 15 minutes.\n"
       ]
      }
     ],
     "prompt_number": 10
    },
    {
     "cell_type": "code",
     "collapsed": false,
     "input": [],
     "language": "python",
     "metadata": {},
     "outputs": []
    }
   ],
   "metadata": {}
  }
 ]
}