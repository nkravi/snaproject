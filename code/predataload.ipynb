{
 "metadata": {
  "name": "",
  "signature": "sha256:a89ab301d0772255214a819bfcab2b766b0b6ef1a0f62bea8dba1054833e5019"
 },
 "nbformat": 3,
 "nbformat_minor": 0,
 "worksheets": [
  {
   "cells": [
    {
     "cell_type": "heading",
     "level": 1,
     "metadata": {},
     "source": [
      "Data loading scripts"
     ]
    },
    {
     "cell_type": "markdown",
     "metadata": {},
     "source": [
      "contains scripts to load required data to database required for processing"
     ]
    },
    {
     "cell_type": "code",
     "collapsed": false,
     "input": [
      "#get db connection\n",
      "from pymongo import MongoClient\n",
      "\n",
      "dbconn = MongoClient('localhost', 27017)\n",
      "dbconn.drop_database('twitter_ethnicity') #drop database if exists\n",
      "db = dbconn.twitter_ethnicity\n",
      "\n",
      "print db"
     ],
     "language": "python",
     "metadata": {},
     "outputs": [
      {
       "output_type": "stream",
       "stream": "stdout",
       "text": [
        "Database(MongoClient('localhost', 27017), u'twitter_ethnicity')\n"
       ]
      }
     ],
     "prompt_number": 29
    },
    {
     "cell_type": "code",
     "collapsed": false,
     "input": [
      "\"\"\"Reads twitter credentials from twitterCreds.txt and \n",
      "    adds it to DB\n",
      "\"\"\"\n",
      "def load_twitter_credentials():\n",
      "    twitter_cred = db['twitter_cred']\n",
      "    with open('../data/twitterCreds.txt') as f:\n",
      "        for line in f.readlines():\n",
      "            creds = line.split()\n",
      "            if len(creds) != 4:\n",
      "                print 'Bad line ignoring...'\n",
      "            else:\n",
      "                cred_names = ['access_key','access_secret','api_key','api_secret','is_taken']\n",
      "                creds += [True]\n",
      "                cred_obj = dict(zip(cred_names, creds))\n",
      "                twitter_cred.insert(cred_obj)\n",
      "                print 'inserted into DB...'\n",
      "    "
     ],
     "language": "python",
     "metadata": {},
     "outputs": [],
     "prompt_number": 30
    },
    {
     "cell_type": "code",
     "collapsed": false,
     "input": [
      "load_twitter_credentials()"
     ],
     "language": "python",
     "metadata": {},
     "outputs": [
      {
       "output_type": "stream",
       "stream": "stdout",
       "text": [
        "inserted into DB...\n",
        "inserted into DB...\n"
       ]
      }
     ],
     "prompt_number": 31
    },
    {
     "cell_type": "code",
     "collapsed": false,
     "input": [
      "\"\"\"Loads details of twitter accounts for \n",
      "which we want to fetch followers\n",
      "\"\"\"\n",
      "def load_prime_accounts():\n",
      "    prime_accounts = db['prime_accounts']\n",
      "    with open('../data/primeAccounts.txt') as f:\n",
      "        prime_accounts = db['prime_accounts']\n",
      "        for line in f.readlines():\n",
      "            values = line.split(',')\n",
      "            if len(values) != 3:\n",
      "                print 'Bad line ingnoring...'\n",
      "            else:\n",
      "                keys = ['screen_name','name','count','is_processed','is_taken','cursor']\n",
      "                values = values + [ False, False, -1]\n",
      "                prime_obj = dict(zip(keys, values))\n",
      "                prime_accounts.insert(prime_obj)\n",
      "                print 'inserted into DB...'\n",
      "    "
     ],
     "language": "python",
     "metadata": {},
     "outputs": [],
     "prompt_number": 32
    },
    {
     "cell_type": "code",
     "collapsed": false,
     "input": [
      "load_prime_accounts()"
     ],
     "language": "python",
     "metadata": {},
     "outputs": [
      {
       "output_type": "stream",
       "stream": "stdout",
       "text": [
        "inserted into DB...\n"
       ]
      }
     ],
     "prompt_number": 33
    },
    {
     "cell_type": "code",
     "collapsed": false,
     "input": [],
     "language": "python",
     "metadata": {},
     "outputs": []
    }
   ],
   "metadata": {}
  }
 ]
}