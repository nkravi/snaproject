{
 "metadata": {
  "name": "",
  "signature": "sha256:c7efd9535bba6affddf50633013efbb7c1c9e0bf531846c2abf996e569a89123"
 },
 "nbformat": 3,
 "nbformat_minor": 0,
 "worksheets": [
  {
   "cells": [
    {
     "cell_type": "heading",
     "level": 1,
     "metadata": {},
     "source": [
      "Data Processing scripts"
     ]
    },
    {
     "cell_type": "markdown",
     "metadata": {},
     "source": [
      "fetch followers and friends for twitter accounts"
     ]
    },
    {
     "cell_type": "code",
     "collapsed": false,
     "input": [
      "#get db connection\n",
      "from pymongo import MongoClient\n",
      "\n",
      "#dbconn = MongoClient('localhost', 27017)\n",
      "db = dbconn.twitter_ethnicity\n",
      "\n",
      "print db"
     ],
     "language": "python",
     "metadata": {},
     "outputs": [
      {
       "output_type": "stream",
       "stream": "stdout",
       "text": [
        "Database(MongoClient('ds059710-a0.mongolab.com', 59710), u'twitter_ethnicity')\n"
       ]
      }
     ],
     "prompt_number": 7
    },
    {
     "cell_type": "code",
     "collapsed": false,
     "input": [
      "import time\n",
      "#helper functions\n",
      "def get_credentials():\n",
      "    \"\"\"Gets twitter credentials from DB \n",
      "    Returns:\n",
      "        Respone dict , or None if failed.\n",
      "    \"\"\"\n",
      "    twitter_cred = db['twitter_cred']\n",
      "    return twitter_cred.find_and_modify(query={'is_taken':False}, update={'$set':{'is_taken':True}}, upsert=False, sort=None)\n",
      "\n",
      "def get_prime_accounts_to_process():\n",
      "    \"\"\"Gets unprocessed prime accounts from DB\n",
      "    Returns:\n",
      "        prime dict or None\n",
      "    \"\"\"\n",
      "    prime_account = db['prime_accounts']\n",
      "    prime_accounts = prime_account.find_and_modify(query={'is_processed':False,'is_taken':False}, update={'$set':{'is_taken':True}}, upsert=False, sort=None, full_response=False)\n",
      "    return prime_accounts\n",
      "\n",
      "def get_follower_to_process():\n",
      "    \"\"\"Gets unprocessed followers form DB\n",
      "    Returns:\n",
      "        follower details dict or None\n",
      "    \"\"\"\n",
      "    xmatrix = db['xmatrix']\n",
      "    followersDtls = xmatrix.find_and_modify(query={'is_processed':False,'is_taken':False}, update={'$set':{'is_taken':True}}, upsert=False, sort=None, full_response=False)\n",
      "    if followersDtls:\n",
      "        followersDtls['follower_id'] = followersDtls.pop('_id')\n",
      "    return followersDtls\n",
      "\n",
      "def add_followers_to_db(user_id,followers_ids):\n",
      "    \"\"\"Adds followers to DB\n",
      "    Args:\n",
      "        user_id     :user id of which the user follows\n",
      "        followers_ids: Ids of followers of the prime accounts\n",
      "    \"\"\"\n",
      "    xmatrix = db['xmatrix']\n",
      "    for follower_id in followers_ids:\n",
      "        xmatrix.update({'_id':follower_id},{'$addToSet':{'follows':user_id},'$set':{'is_processed':False,'is_taken':False}},True)\n",
      "\n",
      "def add_friends_to_dB(follower_id,friends_list):\n",
      "    \"\"\"Adds friends to DB\n",
      "    Args:\n",
      "        follower_id: Id of follower \n",
      "        freiends   : list of his friends\n",
      "    \"\"\"\n",
      "    xmatrix = db['xmatrix']\n",
      "    xmatrix.update({'_id':follower_id},\n",
      "                            {'$addToSet':{\n",
      "                                'follows':{\n",
      "                                    '$each':friends_list\n",
      "                                }\n",
      "                            }\n",
      "                                          \n",
      "                        })\n",
      "\n",
      "def update_processed_flag(user_id):\n",
      "    \"\"\"updates processed flag to true\n",
      "    Args:\n",
      "        user_id: user id for which processed flag to be updated\n",
      "    \"\"\"\n",
      "    xmatrix = db['xmatrix']\n",
      "    xmatrix.update({'_id':user_id},{'$set':{'is_taken':False,'is_processed':True}})\n",
      "    \n",
      "def remove_user_from_x(self,user_id):\n",
      "    \"\"\"removes user from xmatrix\n",
      "    Args:\n",
      "        user_id: user id \n",
      "    \"\"\"\n",
      "    xmatrix = db['xmatrix']\n",
      "    xmatrix.remove({'_id':user_id})\n",
      "\n",
      "def robust_request(twitter, resource, params, max_tries=5):\n",
      "    \"\"\" If a Twitter request fails, sleep for 15 minutes.\n",
      "    Do this at most max_tries times before quitting.\n",
      "    Args:\n",
      "      twitter .... A TwitterAPI object.\n",
      "      resource ... A resource string to request.\n",
      "      params ..... A parameter dictionary for the request.\n",
      "      max_tries .. The maximum number of tries to attempt.\n",
      "    Returns:\n",
      "      A TwitterResponse object, or None if failed.\n",
      "    \"\"\"\n",
      "    for i in range(max_tries):\n",
      "        request = twitter.request(resource, params)\n",
      "        if request.status_code == 200:\n",
      "            return request\n",
      "        r = [r for r in request][0]\n",
      "        if ('code' in r and r['code'] == 34) or ('error' in r and r['error'] == 'Not authorized.'):   # 34 == user does not exist.\n",
      "            print >> sys.stderr, 'skipping bad request', resource, params\n",
      "            return None\n",
      "        else:\n",
      "            print >> sys.stderr, 'Got error:', request.text, '\\nsleeping for 15 minutes.'\n",
      "            sys.stderr.flush()\n",
      "            time.sleep(60 * 15)\n",
      "\n",
      "\n",
      "    "
     ],
     "language": "python",
     "metadata": {},
     "outputs": [],
     "prompt_number": 8
    },
    {
     "cell_type": "code",
     "collapsed": false,
     "input": [
      "#get twitter obj \n",
      "import sys\n",
      "from TwitterAPI import TwitterAPI\n",
      "twitter = get_credentials()\n",
      "if twitter:\n",
      "    twitterObj = TwitterAPI(\n",
      "            twitter['api_key'],\n",
      "            twitter['api_secret'],\n",
      "            twitter ['access_key'],\n",
      "            twitter['access_secret'])\n",
      "else:\n",
      "    print >> sys.stderr,'Twitter credits not available'"
     ],
     "language": "python",
     "metadata": {},
     "outputs": [],
     "prompt_number": 9
    },
    {
     "cell_type": "code",
     "collapsed": false,
     "input": [
      "def get_followers(user_id,count=300,cursor=-1):\n",
      "    \"\"\"To get followers of given twitter Ids\n",
      "    Args:\n",
      "        user_id... twitter user id\n",
      "    Returns\n",
      "        followers list\n",
      "    \"\"\"\n",
      "    followers = []\n",
      "    request = robust_request(twitterObj, 'followers/ids',\n",
      "                             {'user_id': user_id, 'count': count, 'cursor' : cursor ,'stringify_ids' :True })\n",
      "    if request:\n",
      "        for result in request:\n",
      "            if 'ids' in result:\n",
      "                followers += result['ids']\n",
      "    return followers\n",
      "\n",
      "\n",
      "def get_friends(user_id,count=5000):\n",
      "    \"\"\"To get friends of given twitter Ids\n",
      "    Args:\n",
      "        user_id... twitter user id\n",
      "    Returns\n",
      "        friends list\n",
      "    \"\"\"\n",
      "    friends = []\n",
      "    request = robust_request(twitterObj, 'friends/ids',\n",
      "                             {'user_id': user_id, 'count': count, 'stringify_ids' :True})\n",
      "    if request:\n",
      "        for result in request:\n",
      "            if 'ids' in result:\n",
      "                friends += result['ids']\n",
      "    return friends"
     ],
     "language": "python",
     "metadata": {},
     "outputs": [],
     "prompt_number": 10
    },
    {
     "cell_type": "code",
     "collapsed": false,
     "input": [
      "#For testing purpose\n",
      "#else set it to -1\n",
      "cut_off = -1"
     ],
     "language": "python",
     "metadata": {},
     "outputs": [],
     "prompt_number": 11
    },
    {
     "cell_type": "code",
     "collapsed": false,
     "input": [
      "import sys\n",
      "def process_followers():\n",
      "    \"\"\"Gets unprocessed prime accounts from DB \n",
      "    fetch 300 followers of those prime accounts and \n",
      "    adds it to DB. \n",
      "    Halts when all accounts are processed or cutt_off is reached\n",
      "    \"\"\"\n",
      "    global cut_off\n",
      "    while True:\n",
      "        if cut_off == 0:\n",
      "            print >> sys.stderr, 'cut off reached'\n",
      "            break\n",
      "        cut_off -= 1\n",
      "        prime_account = get_prime_accounts_to_process()\n",
      "        if not prime_account:\n",
      "            print >> sys.stderr, 'No prime accounts to process'\n",
      "            break\n",
      "        followers = get_followers(prime_account['user_id'])\n",
      "        if len(followers) > 0:\n",
      "            add_followers_to_db(str(prime_account['user_id']),followers)\n",
      "            print 'added %d followers of %s to DB'%(len(followers),prime_account['user_id'])\n",
      "process_followers()"
     ],
     "language": "python",
     "metadata": {},
     "outputs": [
      {
       "output_type": "stream",
       "stream": "stdout",
       "text": [
        "added 300 followers of 18839785 to DB\n",
        "added 300 followers of 135421739 to DB"
       ]
      },
      {
       "output_type": "stream",
       "stream": "stdout",
       "text": [
        "\n"
       ]
      },
      {
       "output_type": "stream",
       "stream": "stderr",
       "text": [
        "No prime accounts to process\n"
       ]
      }
     ],
     "prompt_number": 13
    },
    {
     "cell_type": "code",
     "collapsed": false,
     "input": [
      "#For testing purpose\n",
      "#else set it to -1\n",
      "cut_off = 3"
     ],
     "language": "python",
     "metadata": {},
     "outputs": [],
     "prompt_number": 24
    },
    {
     "cell_type": "code",
     "collapsed": false,
     "input": [
      "import sys\n",
      "def process_friends():\n",
      "    \"\"\"Gets unprocessed follower and get \n",
      "    5000 of their friends , adds it to DB\n",
      "    Halts when all followers are processed or cutt_off is reached\n",
      "    \"\"\"\n",
      "    global cut_off\n",
      "    while True:\n",
      "        if cut_off == 0:\n",
      "            print >> sys.stderr, 'cut off reached'\n",
      "            break\n",
      "        cut_off -= 1\n",
      "        follower = get_follower_to_process()\n",
      "        if not follower:\n",
      "            print >> sys.stderr, 'No follower to process'\n",
      "            break\n",
      "        friends = get_friends(str(follower['follower_id']))\n",
      "        if len(friends) > 0:\n",
      "            add_friends_to_dB(follower['follower_id'],friends)\n",
      "            print 'added %d followers of %s to DB'%(len(friends),follower['follower_id'])\n",
      "            update_processed_flag(str(follower['follower_id']))\n",
      "        else:\n",
      "            remove_user_from_x(str(follower['follower_id']))\n",
      "            print >> sys.stderr, 'removed user , unable to fetch friends list for %s'%(str(follower['follower_id']))\n",
      "\n",
      "process_friends()"
     ],
     "language": "python",
     "metadata": {},
     "outputs": [
      {
       "output_type": "stream",
       "stream": "stdout",
       "text": [
        "added 259 followers of 2910275312 to DB\n",
        "added 563 followers of 2657485740 to DB"
       ]
      },
      {
       "output_type": "stream",
       "stream": "stdout",
       "text": [
        "\n",
        "added 45 followers of 2556457689 to DB"
       ]
      },
      {
       "output_type": "stream",
       "stream": "stdout",
       "text": [
        "\n"
       ]
      },
      {
       "output_type": "stream",
       "stream": "stderr",
       "text": [
        "cut off reached\n"
       ]
      }
     ],
     "prompt_number": 25
    },
    {
     "cell_type": "code",
     "collapsed": false,
     "input": [],
     "language": "python",
     "metadata": {},
     "outputs": []
    }
   ],
   "metadata": {}
  }
 ]
}